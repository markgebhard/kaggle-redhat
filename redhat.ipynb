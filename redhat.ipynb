{
 "cells": [
  {
   "cell_type": "markdown",
   "metadata": {},
   "source": [
    "# Predicting Red Hat Business Value\n",
    "Welcome! This jupyter notebook will go through some typical data analysis on customer activity data associated with the Kaggle competition of the same name (https://www.kaggle.com/c/predicting-red-hat-business-value).\n",
    "\n",
    "Questions, comments, suggestions, and corrections can be sent to mgebhard@gmail.com.\n",
    "\n",
    "## Business Challenge\n",
    "Red Hat teamed up with Kaggle to challenge teams to create a classification algorithm that identifies which customers have the most potential business value for Red Hat based on their characteristics and activities. Red Hat plans to use these prediction models to efficiently prioritize resources to generate future business and serve customers.\n",
    "\n",
    "## Data\n",
    "Red Hat provided four .CSV files for the challenge (https://www.kaggle.com/c/predicting-red-hat-business-value/data). The people.csv file contains each customer, with a unique people_id and various characteristics. The files act_train.csv and act_test.csv contain all the various activities and associated characteristics performed by customers. The sample_submission.csv file gives the format that Kaggle expects our prediction to take. Let's read the three relevant files with pandas.\n",
    "\n",
    "\n",
    "\n",
    "\n"
   ]
  },
  {
   "cell_type": "code",
   "execution_count": 3,
   "metadata": {
    "collapsed": true
   },
   "outputs": [],
   "source": [
    "import pandas as pd \n",
    "\n",
    "act_train = pd.read_csv('act_train.csv')\n",
    "act_test = pd.read_csv('act_test.csv')\n",
    "people = pd.read_csv('people.csv')"
   ]
  },
  {
   "cell_type": "markdown",
   "metadata": {},
   "source": [
    "## Preparing the Data\n",
    "\n",
    "We now want to clean up the data for use in our analytical model. We can also merge the people data with the activity data."
   ]
  },
  {
   "cell_type": "code",
   "execution_count": 4,
   "metadata": {
    "collapsed": false
   },
   "outputs": [],
   "source": [
    "def prepare_acts(data, train_set=True):\n",
    "    data = data.drop(['date', 'activity_id'], axis=1)\n",
    "    if train_set:\n",
    "        data = data.drop(['outcome'], axis=1)\n",
    "    data['people_id'] = data['people_id'].apply(lambda x: x.split('_')[1])\n",
    "    data['people_id'] = pd.to_numeric(data['people_id']).astype(int)\n",
    "    columns = list(data.columns)\n",
    "    for col in columns[1:]:\n",
    "        data[col] = data[col].fillna('type 0')\n",
    "        data[col] = data[col].apply(lambda x: x.split(' ')[1])\n",
    "        data[col] = pd.to_numeric(data[col]).astype(int)\n",
    "    return data\n",
    "\n",
    "def prepare_people(data):\n",
    "    data = data.drop(['date'], axis=1)\n",
    "    data['people_id'] = data['people_id'].apply(lambda x: x.split('_')[1])\n",
    "    data['people_id'] = pd.to_numeric(data['people_id']).astype(int)\n",
    "    columns = list(data.columns)\n",
    "    bools = columns[11:]\n",
    "    strings = columns[1:11]\n",
    "    for col in bools:\n",
    "        data[col] = pd.to_numeric(data[col]).astype(int)\n",
    "    for col in strings:\n",
    "        data[col] = data[col].fillna('type 0')\n",
    "        data[col] = data[col].apply(lambda x: x.split(' ')[1])\n",
    "        data[col] = pd.to_numeric(data[col]).astype(int)\n",
    "    return data\n",
    "\n",
    "people_prepared = prepare_people(people)\n",
    "actions_train = prepare_acts(act_train)\n",
    "actions_test = prepare_acts(act_test, train_set=False)\n",
    "\n",
    "features = actions_train.merge(people_prepared, how='left', on='people_id')\n",
    "labels = act_train['outcome']\n",
    "test = actions_test.merge(people_prepared, how='left', on='people_id')\n"
   ]
  },
  {
   "cell_type": "markdown",
   "metadata": {},
   "source": [
    "## A Random Forest Model\n",
    "Here are some resources from the web discussing the Random Forests model:\n",
    "\n",
    "* https://www.stat.berkeley.edu/~breiman/RandomForests/cc_home.htm\n",
    "\n",
    "* https://en.wikipedia.org/wiki/Random_forest\n",
    "\n",
    "\n",
    "And here are resources discussing the RandomForestClassifier from sklearn.ensemble:\n",
    "\n",
    "* http://scikit-learn.org/stable/modules/generated/sklearn.ensemble.RandomForestClassifier.html\n",
    "\n",
    "* http://blog.datadive.net/random-forest-interpretation-with-scikit-learn/"
   ]
  },
  {
   "cell_type": "code",
   "execution_count": 5,
   "metadata": {
    "collapsed": false
   },
   "outputs": [],
   "source": [
    "from sklearn.ensemble import RandomForestClassifier\n",
    "\n",
    "rfclassifier = RandomForestClassifier()\n",
    "rfclassifier.fit(features, labels)\n",
    "\n",
    "test_proba = rfclassifier.predict_proba(test)\n",
    "test_preds = test_proba[:,1]"
   ]
  },
  {
   "cell_type": "markdown",
   "metadata": {},
   "source": [
    "## Output\n",
    "Finally, we want to write our predictions to a file that can be uploaded to Kaggle."
   ]
  },
  {
   "cell_type": "code",
   "execution_count": 6,
   "metadata": {
    "collapsed": true
   },
   "outputs": [],
   "source": [
    "test_ids = act_test['activity_id']\n",
    "output = pd.DataFrame({'activity_id': test_ids, 'outcome': test_preds})\n",
    "output.to_csv('redhat.csv', index=False)"
   ]
  },
  {
   "cell_type": "markdown",
   "metadata": {},
   "source": [
    "## Conclusion\n",
    "After submitting the test output to Kaggle, we receive a public score of 0.946164. Not a bad starting point for a simple random forest model."
   ]
  }
 ],
 "metadata": {
  "kernelspec": {
   "display_name": "Python [Root]",
   "language": "python",
   "name": "Python [Root]"
  },
  "language_info": {
   "codemirror_mode": {
    "name": "ipython",
    "version": 2
   },
   "file_extension": ".py",
   "mimetype": "text/x-python",
   "name": "python",
   "nbconvert_exporter": "python",
   "pygments_lexer": "ipython2",
   "version": "2.7.12"
  }
 },
 "nbformat": 4,
 "nbformat_minor": 0
}
